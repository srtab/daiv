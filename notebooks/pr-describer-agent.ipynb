{
 "cells": [
  {
   "cell_type": "markdown",
   "metadata": {},
   "source": [
    "# Pull Request Describer Agent\n",
    "\n",
    "This agent is responsible for describing changes registered on the form of `codebase.base.FileChange`'s (all changes on codebases are registered as `FileChange`'s).\n",
    "\n",
    "The agent generate metadata that can be used to populate a pull request (branch name, title and description) or other uses that needs a description of the changes. "
   ]
  },
  {
   "cell_type": "code",
   "execution_count": 1,
   "metadata": {},
   "outputs": [],
   "source": [
    "from rich import print  # noqa: A004\n",
    "\n",
    "from automation.agents.pr_describer import PullRequestDescriberAgent\n",
    "from codebase.base import FileChange, FileChangeAction\n",
    "\n",
    "file_changes = [\n",
    "    FileChange(\n",
    "        action=FileChangeAction.UPDATE,\n",
    "        file_path=\"codebase/managers/issue_addressor.py\",\n",
    "        commit_messages=[\"Update issue addressor\"],\n",
    "    ),\n",
    "    FileChange(\n",
    "        action=FileChangeAction.CREATE,\n",
    "        file_path=\"automation/agents/pr_describer/agent.py\",\n",
    "        commit_messages=[\"Add pr describer agent\"],\n",
    "    ),\n",
    "]\n",
    "\n",
    "pr_describer = PullRequestDescriberAgent()"
   ]
  },
  {
   "cell_type": "markdown",
   "metadata": {},
   "source": [
    "A simple example with branch name convention defined: "
   ]
  },
  {
   "cell_type": "code",
   "execution_count": null,
   "metadata": {},
   "outputs": [],
   "source": [
    "result = pr_describer.agent.invoke({\n",
    "    \"changes\": file_changes,\n",
    "    \"branch_name_convention\": \"Use 'feat/', 'fix/', or 'chore/' prefixes.\",\n",
    "})\n",
    "\n",
    "print(result)"
   ]
  },
  {
   "cell_type": "markdown",
   "metadata": {},
   "source": [
    "Second example with extra context, to help direct the description based on other data than the `FileChange`'s:"
   ]
  },
  {
   "cell_type": "code",
   "execution_count": null,
   "metadata": {},
   "outputs": [],
   "source": [
    "result = pr_describer.agent.invoke(\n",
    "    {\n",
    "        \"changes\": file_changes,\n",
    "        \"branch_name_convention\": \"Use 'feat/', 'fix/', or 'chore/' prefixes.\",\n",
    "        \"extra_context\": \"Changes represent a migration on agents initizalization.\",\n",
    "    },\n",
    "    config={\"run_name\": \"PullRequestDescriber\"},\n",
    ")\n",
    "\n",
    "print(result)"
   ]
  }
 ],
 "metadata": {
  "kernelspec": {
   "display_name": ".venv",
   "language": "python",
   "name": "python3"
  },
  "language_info": {
   "codemirror_mode": {
    "name": "ipython",
    "version": 3
   },
   "file_extension": ".py",
   "mimetype": "text/x-python",
   "name": "python",
   "nbconvert_exporter": "python",
   "pygments_lexer": "ipython3",
   "version": "3.12.7"
  }
 },
 "nbformat": 4,
 "nbformat_minor": 2
}
