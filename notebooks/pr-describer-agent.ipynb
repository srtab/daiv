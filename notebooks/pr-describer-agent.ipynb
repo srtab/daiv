{
 "cells": [
  {
   "cell_type": "markdown",
   "metadata": {},
   "source": [
    "# Pull Request Describer Agent\n",
    "\n",
    "This agent is responsible for describing changes registered on the form of `codebase.base.FileChange`'s (all changes on codebases are registered as `FileChange`'s).\n",
    "\n",
    "The agent generate metadata that can be used to populate a pull request (branch name, title and description) or other uses that needs a description of the changes. "
   ]
  },
  {
   "cell_type": "code",
   "execution_count": 3,
   "metadata": {},
   "outputs": [],
   "source": [
    "from rich import print  # noqa: A004\n",
    "\n",
    "from automation.agents.pr_describer import PullRequestDescriberAgent\n",
    "from codebase.base import FileChange, FileChangeAction\n",
    "\n",
    "file_changes = [\n",
    "    FileChange(\n",
    "        action=FileChangeAction.UPDATE,\n",
    "        file_path=\"codebase/managers/issue_addressor.py\",\n",
    "        commit_messages=[\"Update issue addressor\"],\n",
    "    ),\n",
    "    FileChange(\n",
    "        action=FileChangeAction.CREATE,\n",
    "        file_path=\"automation/agents/pr_describer/agent.py\",\n",
    "        commit_messages=[\"Add pr describer agent\"],\n",
    "    ),\n",
    "]\n",
    "\n",
    "pr_describer = PullRequestDescriberAgent()"
   ]
  },
  {
   "cell_type": "markdown",
   "metadata": {},
   "source": [
    "A simple example with branch name convention defined: "
   ]
  },
  {
   "cell_type": "code",
   "execution_count": 4,
   "metadata": {},
   "outputs": [
    {
     "data": {
      "text/html": [
       "<pre style=\"white-space:pre;overflow-x:auto;line-height:normal;font-family:Menlo,'DejaVu Sans Mono',consolas,'Courier New',monospace\"><span style=\"color: #800080; text-decoration-color: #800080; font-weight: bold\">PullRequestDescriberOutput</span><span style=\"font-weight: bold\">(</span>\n",
       "    <span style=\"color: #808000; text-decoration-color: #808000\">branch</span>=<span style=\"color: #008000; text-decoration-color: #008000\">'feat/update-issue-addressor-add-pr-describer-agent'</span>,\n",
       "    <span style=\"color: #808000; text-decoration-color: #808000\">title</span>=<span style=\"color: #008000; text-decoration-color: #008000\">'Update issue addressor and add PR describer agent'</span>,\n",
       "    <span style=\"color: #808000; text-decoration-color: #808000\">description</span>=<span style=\"color: #008000; text-decoration-color: #008000\">'Update the issue addressor in `codebase/managers/issue_addressor.py` to enhance its functionality.</span>\n",
       "<span style=\"color: #008000; text-decoration-color: #008000\">Add a new PR describer agent in `automation/agents/pr_describer/agent.py` to support pull request description </span>\n",
       "<span style=\"color: #008000; text-decoration-color: #008000\">automation.'</span>,\n",
       "    <span style=\"color: #808000; text-decoration-color: #808000\">summary</span>=<span style=\"font-weight: bold\">[</span>\n",
       "        <span style=\"color: #008000; text-decoration-color: #008000\">'Update `codebase/managers/issue_addressor.py` to improve issue addressor functionality'</span>,\n",
       "        <span style=\"color: #008000; text-decoration-color: #008000\">'Add new PR describer agent in `automation/agents/pr_describer/agent.py`'</span>\n",
       "    <span style=\"font-weight: bold\">]</span>,\n",
       "    <span style=\"color: #808000; text-decoration-color: #808000\">commit_message</span>=<span style=\"color: #008000; text-decoration-color: #008000\">'Update issue addressor and add PR describer agent'</span>\n",
       "<span style=\"font-weight: bold\">)</span>\n",
       "</pre>\n"
      ],
      "text/plain": [
       "\u001b[1;35mPullRequestDescriberOutput\u001b[0m\u001b[1m(\u001b[0m\n",
       "    \u001b[33mbranch\u001b[0m=\u001b[32m'feat/update-issue-addressor-add-pr-describer-agent'\u001b[0m,\n",
       "    \u001b[33mtitle\u001b[0m=\u001b[32m'Update issue addressor and add PR describer agent'\u001b[0m,\n",
       "    \u001b[33mdescription\u001b[0m=\u001b[32m'Update the issue addressor in `codebase/managers/issue_addressor.py` to enhance its functionality.\u001b[0m\n",
       "\u001b[32mAdd a new PR describer agent in `automation/agents/pr_describer/agent.py` to support pull request description \u001b[0m\n",
       "\u001b[32mautomation.'\u001b[0m,\n",
       "    \u001b[33msummary\u001b[0m=\u001b[1m[\u001b[0m\n",
       "        \u001b[32m'Update `codebase/managers/issue_addressor.py` to improve issue addressor functionality'\u001b[0m,\n",
       "        \u001b[32m'Add new PR describer agent in `automation/agents/pr_describer/agent.py`'\u001b[0m\n",
       "    \u001b[1m]\u001b[0m,\n",
       "    \u001b[33mcommit_message\u001b[0m=\u001b[32m'Update issue addressor and add PR describer agent'\u001b[0m\n",
       "\u001b[1m)\u001b[0m\n"
      ]
     },
     "metadata": {},
     "output_type": "display_data"
    }
   ],
   "source": [
    "result = pr_describer.agent.invoke({\n",
    "    \"changes\": file_changes,\n",
    "    \"branch_name_convention\": \"Use 'feat/', 'fix/', or 'chore/' prefixes.\",\n",
    "})\n",
    "\n",
    "print(result)"
   ]
  },
  {
   "cell_type": "markdown",
   "metadata": {},
   "source": [
    "Second example with extra context, to help direct the description based on other data than the `FileChange`'s:"
   ]
  },
  {
   "cell_type": "code",
   "execution_count": 5,
   "metadata": {},
   "outputs": [
    {
     "data": {
      "text/html": [
       "<pre style=\"white-space:pre;overflow-x:auto;line-height:normal;font-family:Menlo,'DejaVu Sans Mono',consolas,'Courier New',monospace\"><span style=\"color: #800080; text-decoration-color: #800080; font-weight: bold\">PullRequestDescriberOutput</span><span style=\"font-weight: bold\">(</span>\n",
       "    <span style=\"color: #808000; text-decoration-color: #808000\">branch</span>=<span style=\"color: #008000; text-decoration-color: #008000\">'feat/update-issue-addressor-add-pr-describer-agent'</span>,\n",
       "    <span style=\"color: #808000; text-decoration-color: #808000\">title</span>=<span style=\"color: #008000; text-decoration-color: #008000\">'Update issue addressor and add PR describer agent'</span>,\n",
       "    <span style=\"color: #808000; text-decoration-color: #808000\">description</span>=<span style=\"color: #008000; text-decoration-color: #008000\">'Update the issue addressor in `codebase/managers/issue_addressor.py` to enhance its functionality.</span>\n",
       "<span style=\"color: #008000; text-decoration-color: #008000\">Add a new PR describer agent in `automation/agents/pr_describer/agent.py` as part of migrating agents </span>\n",
       "<span style=\"color: #008000; text-decoration-color: #008000\">initialization.'</span>,\n",
       "    <span style=\"color: #808000; text-decoration-color: #808000\">summary</span>=<span style=\"font-weight: bold\">[</span>\n",
       "        <span style=\"color: #008000; text-decoration-color: #008000\">'Update `codebase/managers/issue_addressor.py` to improve issue addressor functionality'</span>,\n",
       "        <span style=\"color: #008000; text-decoration-color: #008000\">'Add new PR describer agent in `automation/agents/pr_describer/agent.py`'</span>\n",
       "    <span style=\"font-weight: bold\">]</span>,\n",
       "    <span style=\"color: #808000; text-decoration-color: #808000\">commit_message</span>=<span style=\"color: #008000; text-decoration-color: #008000\">'Update issue addressor and add PR describer agent'</span>\n",
       "<span style=\"font-weight: bold\">)</span>\n",
       "</pre>\n"
      ],
      "text/plain": [
       "\u001b[1;35mPullRequestDescriberOutput\u001b[0m\u001b[1m(\u001b[0m\n",
       "    \u001b[33mbranch\u001b[0m=\u001b[32m'feat/update-issue-addressor-add-pr-describer-agent'\u001b[0m,\n",
       "    \u001b[33mtitle\u001b[0m=\u001b[32m'Update issue addressor and add PR describer agent'\u001b[0m,\n",
       "    \u001b[33mdescription\u001b[0m=\u001b[32m'Update the issue addressor in `codebase/managers/issue_addressor.py` to enhance its functionality.\u001b[0m\n",
       "\u001b[32mAdd a new PR describer agent in `automation/agents/pr_describer/agent.py` as part of migrating agents \u001b[0m\n",
       "\u001b[32minitialization.'\u001b[0m,\n",
       "    \u001b[33msummary\u001b[0m=\u001b[1m[\u001b[0m\n",
       "        \u001b[32m'Update `codebase/managers/issue_addressor.py` to improve issue addressor functionality'\u001b[0m,\n",
       "        \u001b[32m'Add new PR describer agent in `automation/agents/pr_describer/agent.py`'\u001b[0m\n",
       "    \u001b[1m]\u001b[0m,\n",
       "    \u001b[33mcommit_message\u001b[0m=\u001b[32m'Update issue addressor and add PR describer agent'\u001b[0m\n",
       "\u001b[1m)\u001b[0m\n"
      ]
     },
     "metadata": {},
     "output_type": "display_data"
    }
   ],
   "source": [
    "result = pr_describer.agent.invoke(\n",
    "    {\n",
    "        \"changes\": file_changes,\n",
    "        \"branch_name_convention\": \"Use 'feat/', 'fix/', or 'chore/' prefixes.\",\n",
    "        \"extra_context\": \"Changes represent a migration on agents initizalization.\",\n",
    "    },\n",
    "    config={\"run_name\": \"PullRequestDescriber\"},\n",
    ")\n",
    "\n",
    "print(result)"
   ]
  }
 ],
 "metadata": {
  "kernelspec": {
   "display_name": ".venv",
   "language": "python",
   "name": "python3"
  },
  "language_info": {
   "codemirror_mode": {
    "name": "ipython",
    "version": 3
   },
   "file_extension": ".py",
   "mimetype": "text/x-python",
   "name": "python",
   "nbconvert_exporter": "python",
   "pygments_lexer": "ipython3",
   "version": "3.12.7"
  }
 },
 "nbformat": 4,
 "nbformat_minor": 2
}
