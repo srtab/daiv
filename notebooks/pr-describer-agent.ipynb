{
 "cells": [
  {
   "cell_type": "markdown",
   "metadata": {},
   "source": [
    "# Pull Request Describer Agent\n",
    "\n",
    "This agent is responsible for describing changes registered on the form of `codebase.base.FileChange`'s (all changes on codebases are registered as `FileChange`'s).\n",
    "\n",
    "The agent generate metadata that can be used to populate a pull request (branch name, title and description) or other uses that needs a description of the changes. "
   ]
  },
  {
   "cell_type": "code",
   "execution_count": 7,
   "metadata": {},
   "outputs": [],
   "source": [
    "from rich import print  # noqa: A004\n",
    "\n",
    "from automation.agents.pr_describer import PullRequestDescriberAgent\n",
    "from codebase.base import FileChange, FileChangeAction\n",
    "\n",
    "file_changes = [\n",
    "    FileChange(\n",
    "        action=FileChangeAction.UPDATE,\n",
    "        file_path=\"codebase/managers/issue_addressor.py\",\n",
    "        commit_messages=[\"Update issue addressor\"],\n",
    "    ),\n",
    "    FileChange(\n",
    "        action=FileChangeAction.CREATE,\n",
    "        file_path=\"automation/agents/pr_describer/agent.py\",\n",
    "        commit_messages=[\"Add pr describer agent\"],\n",
    "    ),\n",
    "]\n",
    "\n",
    "pr_describer = PullRequestDescriberAgent()"
   ]
  },
  {
   "cell_type": "markdown",
   "metadata": {},
   "source": [
    "A simple example with branch name convention defined: "
   ]
  },
  {
   "cell_type": "code",
   "execution_count": null,
   "metadata": {},
   "outputs": [
    {
     "name": "stderr",
     "output_type": "stream",
     "text": [
      "[22-02-2025:18:58:10 +0000] INFO - httpx - HTTP Request: POST https://api.anthropic.com/v1/messages \"HTTP/1.1 200 OK\"\n"
     ]
    },
    {
     "data": {
      "text/html": [
       "<pre style=\"white-space:pre;overflow-x:auto;line-height:normal;font-family:Menlo,'DejaVu Sans Mono',consolas,'Courier New',monospace\"><span style=\"color: #800080; text-decoration-color: #800080; font-weight: bold\">PullRequestDescriberOutput</span><span style=\"font-weight: bold\">(</span>\n",
       "    <span style=\"color: #808000; text-decoration-color: #808000\">branch</span>=<span style=\"color: #008000; text-decoration-color: #008000\">'feat/update-issue-addressor-and-pr-describer'</span>,\n",
       "    <span style=\"color: #808000; text-decoration-color: #808000\">title</span>=<span style=\"color: #008000; text-decoration-color: #008000\">'Enhance Issue Addressor and Add PR Describer Agent'</span>,\n",
       "    <span style=\"color: #808000; text-decoration-color: #808000\">description</span>=<span style=\"color: #008000; text-decoration-color: #008000\">'The changes update the issue addressor functionality and introduce a new PR describer agent to </span>\n",
       "<span style=\"color: #008000; text-decoration-color: #008000\">improve automation capabilities.'</span>,\n",
       "    <span style=\"color: #808000; text-decoration-color: #808000\">summary</span>=<span style=\"font-weight: bold\">[</span>\n",
       "        <span style=\"color: #008000; text-decoration-color: #008000\">'Update `codebase/managers/issue_addressor.py`'</span>,\n",
       "        <span style=\"color: #008000; text-decoration-color: #008000\">'Create new `automation/agents/pr_describer/agent.py`'</span>\n",
       "    <span style=\"font-weight: bold\">]</span>,\n",
       "    <span style=\"color: #808000; text-decoration-color: #808000\">commit_message</span>=<span style=\"color: #008000; text-decoration-color: #008000\">'Add PR describer agent and update issue addressor'</span>\n",
       "<span style=\"font-weight: bold\">)</span>\n",
       "</pre>\n"
      ],
      "text/plain": [
       "\u001b[1;35mPullRequestDescriberOutput\u001b[0m\u001b[1m(\u001b[0m\n",
       "    \u001b[33mbranch\u001b[0m=\u001b[32m'feat/update-issue-addressor-and-pr-describer'\u001b[0m,\n",
       "    \u001b[33mtitle\u001b[0m=\u001b[32m'Enhance Issue Addressor and Add PR Describer Agent'\u001b[0m,\n",
       "    \u001b[33mdescription\u001b[0m=\u001b[32m'The changes update the issue addressor functionality and introduce a new PR describer agent to \u001b[0m\n",
       "\u001b[32mimprove automation capabilities.'\u001b[0m,\n",
       "    \u001b[33msummary\u001b[0m=\u001b[1m[\u001b[0m\n",
       "        \u001b[32m'Update `codebase/managers/issue_addressor.py`'\u001b[0m,\n",
       "        \u001b[32m'Create new `automation/agents/pr_describer/agent.py`'\u001b[0m\n",
       "    \u001b[1m]\u001b[0m,\n",
       "    \u001b[33mcommit_message\u001b[0m=\u001b[32m'Add PR describer agent and update issue addressor'\u001b[0m\n",
       "\u001b[1m)\u001b[0m\n"
      ]
     },
     "metadata": {},
     "output_type": "display_data"
    }
   ],
   "source": [
    "result = pr_describer.agent.invoke(\n",
    "    {\"changes\": file_changes, \"branch_name_convention\": \"Use 'feat/', 'fix/', or 'chore/' prefixes.\"},\n",
    "    config={\"run_name\": \"PullRequestDescriber\"},\n",
    ")\n",
    "\n",
    "print(result)"
   ]
  },
  {
   "cell_type": "markdown",
   "metadata": {},
   "source": [
    "Second example with extra context, to help direct the description based on other data than the `FileChange`'s:"
   ]
  },
  {
   "cell_type": "code",
   "execution_count": null,
   "metadata": {},
   "outputs": [
    {
     "name": "stderr",
     "output_type": "stream",
     "text": [
      "[22-02-2025:18:58:14 +0000] INFO - httpx - HTTP Request: POST https://api.anthropic.com/v1/messages \"HTTP/1.1 200 OK\"\n"
     ]
    },
    {
     "data": {
      "text/html": [
       "<pre style=\"white-space:pre;overflow-x:auto;line-height:normal;font-family:Menlo,'DejaVu Sans Mono',consolas,'Courier New',monospace\"><span style=\"color: #800080; text-decoration-color: #800080; font-weight: bold\">PullRequestDescriberOutput</span><span style=\"font-weight: bold\">(</span>\n",
       "    <span style=\"color: #808000; text-decoration-color: #808000\">branch</span>=<span style=\"color: #008000; text-decoration-color: #008000\">'feat/agent-migration'</span>,\n",
       "    <span style=\"color: #808000; text-decoration-color: #808000\">title</span>=<span style=\"color: #008000; text-decoration-color: #008000\">'Migrate and Enhance Agent Initialization Process'</span>,\n",
       "    <span style=\"color: #808000; text-decoration-color: #808000\">description</span>=<span style=\"color: #008000; text-decoration-color: #008000\">'The changes update the issue addressor and introduce a new PR describer agent, representing a </span>\n",
       "<span style=\"color: #008000; text-decoration-color: #008000\">migration in the agents initialization workflow.'</span>,\n",
       "    <span style=\"color: #808000; text-decoration-color: #808000\">summary</span>=<span style=\"font-weight: bold\">[</span>\n",
       "        <span style=\"color: #008000; text-decoration-color: #008000\">'Update `codebase/managers/issue_addressor.py`'</span>,\n",
       "        <span style=\"color: #008000; text-decoration-color: #008000\">'Create new PR describer agent in `automation/agents/pr_describer/agent.py`'</span>\n",
       "    <span style=\"font-weight: bold\">]</span>,\n",
       "    <span style=\"color: #808000; text-decoration-color: #808000\">commit_message</span>=<span style=\"color: #008000; text-decoration-color: #008000\">'Migrate agents initialization and add PR describer agent'</span>\n",
       "<span style=\"font-weight: bold\">)</span>\n",
       "</pre>\n"
      ],
      "text/plain": [
       "\u001b[1;35mPullRequestDescriberOutput\u001b[0m\u001b[1m(\u001b[0m\n",
       "    \u001b[33mbranch\u001b[0m=\u001b[32m'feat/agent-migration'\u001b[0m,\n",
       "    \u001b[33mtitle\u001b[0m=\u001b[32m'Migrate and Enhance Agent Initialization Process'\u001b[0m,\n",
       "    \u001b[33mdescription\u001b[0m=\u001b[32m'The changes update the issue addressor and introduce a new PR describer agent, representing a \u001b[0m\n",
       "\u001b[32mmigration in the agents initialization workflow.'\u001b[0m,\n",
       "    \u001b[33msummary\u001b[0m=\u001b[1m[\u001b[0m\n",
       "        \u001b[32m'Update `codebase/managers/issue_addressor.py`'\u001b[0m,\n",
       "        \u001b[32m'Create new PR describer agent in `automation/agents/pr_describer/agent.py`'\u001b[0m\n",
       "    \u001b[1m]\u001b[0m,\n",
       "    \u001b[33mcommit_message\u001b[0m=\u001b[32m'Migrate agents initialization and add PR describer agent'\u001b[0m\n",
       "\u001b[1m)\u001b[0m\n"
      ]
     },
     "metadata": {},
     "output_type": "display_data"
    }
   ],
   "source": [
    "result = pr_describer.agent.invoke(\n",
    "    {\n",
    "        \"changes\": file_changes,\n",
    "        \"branch_name_convention\": \"Use 'feat/', 'fix/', or 'chore/' prefixes.\",\n",
    "        \"extra_context\": \"Changes represent a migration on agents initizalization.\",\n",
    "    },\n",
    "    config={\"run_name\": \"PullRequestDescriber\"},\n",
    ")\n",
    "\n",
    "print(result)"
   ]
  }
 ],
 "metadata": {
  "kernelspec": {
   "display_name": ".venv",
   "language": "python",
   "name": "python3"
  },
  "language_info": {
   "codemirror_mode": {
    "name": "ipython",
    "version": 3
   },
   "file_extension": ".py",
   "mimetype": "text/x-python",
   "name": "python",
   "nbconvert_exporter": "python",
   "pygments_lexer": "ipython3",
   "version": "3.12.7"
  }
 },
 "nbformat": 4,
 "nbformat_minor": 2
}
