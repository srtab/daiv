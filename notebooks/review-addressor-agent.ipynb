{
 "cells": [
  {
   "cell_type": "markdown",
   "metadata": {},
   "source": [
    "# Review Addressor Agent\n",
    "\n",
    "Review addressor agent is used to address reviews left by reviewers. It will start by distinguishing if the comments are: \n",
    " 1. Requests to change the code;\n",
    " 2. Just feedback and define the next steps to follow. \n",
    "\n",
    "If there are changes to be made, the agent will plan and execute the next steps.\n",
    "If the comments are just feedback, the agent will reply to the reviewer with contextualized responses."
   ]
  },
  {
   "cell_type": "markdown",
   "metadata": {},
   "source": [
    "## Setup\n",
    "\n",
    "First we need to import the agent and ensure the following already exists:\n",
    " - A repository on GitLab local instance [http://127.0.0.1:8929](http://127.0.0.1:8929);\n",
    " - A merge request with changes on that repository.\n",
    "\n",
    "After all set, replace: \n",
    " - `source_repo_id` with the id of your repository;\n",
    " - `source_ref` with the branch name of created merge request\n"
   ]
  },
  {
   "cell_type": "code",
   "execution_count": 1,
   "metadata": {},
   "outputs": [],
   "source": [
    "from langgraph.store.memory import InMemoryStore\n",
    "from rich import print  # noqa: A004\n",
    "\n",
    "from automation.agents.review_addressor import ReviewAddressorAgent\n",
    "\n",
    "source_repo_id = \"dipcode/django-webhooks\"\n",
    "source_ref = \"fix/typo-readme-1\"\n",
    "\n",
    "config = {\"run_name\": \"ReviewAddressor\", \"configurable\": {\"source_repo_id\": source_repo_id, \"source_ref\": source_ref}}\n",
    "store = InMemoryStore()\n",
    "\n",
    "review_addressor = ReviewAddressorAgent(store=store)"
   ]
  },
  {
   "cell_type": "markdown",
   "metadata": {},
   "source": [
    "## Graph"
   ]
  },
  {
   "cell_type": "code",
   "execution_count": 2,
   "metadata": {},
   "outputs": [
    {
     "data": {
      "image/png": "[encoded data removed]",
      "text/plain": [
       "<IPython.core.display.Image object>"
      ]
     },
     "metadata": {},
     "output_type": "display_data"
    }
   ],
   "source": [
    "from IPython.display import Image, display  # noqa: A004\n",
    "\n",
    "display(Image(review_addressor.draw_mermaid()))"
   ]
  },
  {
   "cell_type": "markdown",
   "metadata": {},
   "source": [
    "## Example\n",
    "Here are examples of the review addressor agent in action. \n",
    "\n",
    "### Reply to inline comment\n",
    "\n",
    "Let's say we left a comment inline. The diff will only include the commented line.\n",
    "\n",
    "The expected behavior is that the agent will reply to the comment with a contextualized response, by calling the appropriate tools and using the diff hunk to extract the relevant information.\n",
    "\n",
    "Let's see the agent in action:"
   ]
  },
  {
   "cell_type": "code",
   "execution_count": 10,
   "metadata": {},
   "outputs": [],
   "source": [
    "diff = \"--- a/README.md\\n+++ b/README.md\\n@@ -11,1 +11,1 @@\\n   - [Development](#development)\\n\"\n",
    "notes = [{\"role\": \"user\", \"content\": \"Confirm that the link is updated with the section title below?\"}]\n",
    "\n",
    "result = review_addressor.agent.invoke({\"diff\": diff, \"notes\": notes}, config=config)"
   ]
  },
  {
   "cell_type": "code",
   "execution_count": 11,
   "metadata": {},
   "outputs": [
    {
     "data": {
      "text/html": [
       "<pre style=\"white-space:pre;overflow-x:auto;line-height:normal;font-family:Menlo,'DejaVu Sans Mono',consolas,'Courier New',monospace\">Yes, the link for the <span style=\"color: #008000; text-decoration-color: #008000\">\"Development\"</span> section is correctly updated and matches the section title in the table of \n",
       "contents.\n",
       "</pre>\n"
      ],
      "text/plain": [
       "Yes, the link for the \u001b[32m\"Development\"\u001b[0m section is correctly updated and matches the section title in the table of \n",
       "contents.\n"
      ]
     },
     "metadata": {},
     "output_type": "display_data"
    }
   ],
   "source": [
    "print(result[\"reply\"])"
   ]
  },
  {
   "cell_type": "markdown",
   "metadata": {},
   "source": [
    "Now let's see the agent behavior when i reply to him:"
   ]
  },
  {
   "cell_type": "code",
   "execution_count": 5,
   "metadata": {},
   "outputs": [],
   "source": [
    "notes += [{\"role\": \"assistant\", \"content\": result[\"reply\"]}, {\"role\": \"user\", \"content\": \"Thank you!\"}]\n",
    "\n",
    "result = review_addressor.agent.invoke({\"diff\": diff, \"notes\": notes}, config=config)"
   ]
  },
  {
   "cell_type": "code",
   "execution_count": 6,
   "metadata": {},
   "outputs": [
    {
     "data": {
      "text/html": [
       "<pre style=\"white-space:pre;overflow-x:auto;line-height:normal;font-family:Menlo,'DejaVu Sans Mono',consolas,'Courier New',monospace\">You're welcome! I'm glad I could help confirm the section link.\n",
       "</pre>\n"
      ],
      "text/plain": [
       "You're welcome! I'm glad I could help confirm the section link.\n"
      ]
     },
     "metadata": {},
     "output_type": "display_data"
    }
   ],
   "source": [
    "print(result[\"reply\"])"
   ]
  },
  {
   "cell_type": "markdown",
   "metadata": {},
   "source": [
    "### Reply to file comment\n",
    "\n",
    "Let's say we left a comment on a file. The diff will include the whole file.\n",
    "\n",
    "The expected behavior is that the agent will reply to the comment considering the diff hunk with all the changes made on that file.\n"
   ]
  },
  {
   "cell_type": "code",
   "execution_count": 3,
   "metadata": {},
   "outputs": [],
   "source": [
    "diff = \"\"\"--- a/README.md\n",
    "+++ b/README.md\n",
    "@@ -10,7 +10,7 @@ Django Webhooks is a Python package that provides a convenient way to handle web\n",
    "   - [Usage](#usage)\n",
    "   - [Development](#development)\n",
    "     - [Running tests](#running-tests)\n",
    "-    - [Usefull commands](#usefull-commands)\n",
    "+    - [Useful commands](#useful-commands)\n",
    "   - [Update the package version](#update-the-package-version)\n",
    "\n",
    " ## Installation\n",
    "@@ -82,7 +82,7 @@ $ pipenv run lint-format\n",
    "\n",
    " ```\n",
    "\n",
    "-### Usefull commands\n",
    "+### Useful commands\n",
    "\n",
    " The project includes a `Makefile` to help you in some tasks listed below:\n",
    "\"\"\"\n",
    "\n",
    "notes = [{\"role\": \"user\", \"content\": \"Do a review of the changes made here\"}]\n",
    "\n",
    "result = review_addressor.agent.invoke({\"diff\": diff, \"notes\": notes}, config=config)"
   ]
  },
  {
   "cell_type": "code",
   "execution_count": 4,
   "metadata": {},
   "outputs": [
    {
     "data": {
      "text/html": [
       "<pre style=\"white-space:pre;overflow-x:auto;line-height:normal;font-family:Menlo,'DejaVu Sans Mono',consolas,'Courier New',monospace\">I've corrected the spelling of <span style=\"color: #008000; text-decoration-color: #008000\">\"Usefull\"</span> to <span style=\"color: #008000; text-decoration-color: #008000\">\"Useful\"</span> in both the table of contents and section heading. This \n",
       "improves the documentation's readability without changing any functionality.\n",
       "</pre>\n"
      ],
      "text/plain": [
       "I've corrected the spelling of \u001b[32m\"Usefull\"\u001b[0m to \u001b[32m\"Useful\"\u001b[0m in both the table of contents and section heading. This \n",
       "improves the documentation's readability without changing any functionality.\n"
      ]
     },
     "metadata": {},
     "output_type": "display_data"
    }
   ],
   "source": [
    "print(result[\"reply\"])"
   ]
  },
  {
   "cell_type": "markdown",
   "metadata": {},
   "source": [
    "### Reply to merge request comment\n",
    "\n",
    "Let's say we have left a comment on the merge request. The diff will include the whole merge request.\n",
    "\n",
    "The expected behavior is that the agent will reply to the comment considering the diff hunk with all the changes made on that merge request.\n"
   ]
  },
  {
   "cell_type": "code",
   "execution_count": 5,
   "metadata": {},
   "outputs": [],
   "source": [
    "diff = \"\"\"--- a/CHANGELOG.md\n",
    "+++ b/CHANGELOG.md\n",
    "@@ -7,6 +7,11 @@ and this project adheres to [Semantic Versioning](http://semver.org/spec/v2.0.0.\n",
    "\n",
    " ## [Unreleased]\n",
    "\n",
    "+### Fixed\n",
    "+\n",
    "+- Fixed typos in README.md documentation\n",
    "+\n",
    "+\n",
    " ## [0.3.2] - 2024-08-13\n",
    "\n",
    " ### Fixed\n",
    "--- a/README.md\n",
    "+++ b/README.md\n",
    "@@ -10,7 +10,7 @@ Django Webhooks is a Python package that provides a convenient way to handle web\n",
    "   - [Usage](#usage)\n",
    "   - [Development](#development)\n",
    "     - [Running tests](#running-tests)\n",
    "-    - [Usefull commands](#usefull-commands)\n",
    "+    - [Useful commands](#useful-commands)\n",
    "   - [Update the package version](#update-the-package-version)\n",
    "\n",
    " ## Installation\n",
    "@@ -82,7 +82,7 @@ $ pipenv run lint-format\n",
    "\n",
    " ```\n",
    "\n",
    "-### Usefull commands\n",
    "+### Useful commands\n",
    "\n",
    " The project includes a `Makefile` to help you in some tasks listed below:\n",
    "\n",
    "\"\"\"\n",
    "notes = [{\"role\": \"user\", \"content\": \"Do the Changelog file needs to be updated?\"}]\n",
    "\n",
    "result = review_addressor.agent.invoke({\"diff\": diff, \"notes\": notes}, config=config)"
   ]
  },
  {
   "cell_type": "code",
   "execution_count": 6,
   "metadata": {},
   "outputs": [
    {
     "data": {
      "text/html": [
       "<pre style=\"white-space:pre;overflow-x:auto;line-height:normal;font-family:Menlo,'DejaVu Sans Mono',consolas,'Courier New',monospace\">Yes, the Changelog has been appropriately updated with the typo fixes in the README.md documentation under the \n",
       "<span style=\"color: #008000; text-decoration-color: #008000\">\"[Unreleased]\"</span> section.\n",
       "</pre>\n"
      ],
      "text/plain": [
       "Yes, the Changelog has been appropriately updated with the typo fixes in the README.md documentation under the \n",
       "\u001b[32m\"\u001b[0m\u001b[32m[\u001b[0m\u001b[32mUnreleased\u001b[0m\u001b[32m]\u001b[0m\u001b[32m\"\u001b[0m section.\n"
      ]
     },
     "metadata": {},
     "output_type": "display_data"
    }
   ],
   "source": [
    "print(result[\"reply\"])"
   ]
  },
  {
   "cell_type": "markdown",
   "metadata": {},
   "source": [
    "### Address inline comments\n",
    "\n",
    "Let's say we left a comment inline that requires some changes to be made on the codebase.\n",
    "\n",
    "The expected behavior is that the agent will address the comment by calling the plan and execute agent. This agent will plan the steps to follow and execute them without the need of human intervention.\n",
    "\n",
    "Let's see the agent in action:"
   ]
  },
  {
   "cell_type": "code",
   "execution_count": 2,
   "metadata": {},
   "outputs": [],
   "source": [
    "diff = \"\"\"--- a/CHANGELOG.md\n",
    "+++ b/CHANGELOG.md\n",
    "@@ -12,0 +12,1 @@\n",
    "+- Fixed typos in README.md documentation\n",
    "\"\"\"\n",
    "\n",
    "notes = [{\"role\": \"user\", \"content\": \"Add a dot at the end of the phrase.\"}]\n",
    "\n",
    "result = review_addressor.agent.invoke({\"diff\": diff, \"notes\": notes}, config=config)"
   ]
  }
 ],
 "metadata": {
  "kernelspec": {
   "display_name": ".venv",
   "language": "python",
   "name": "python3"
  },
  "language_info": {
   "codemirror_mode": {
    "name": "ipython",
    "version": 3
   },
   "file_extension": ".py",
   "mimetype": "text/x-python",
   "name": "python",
   "nbconvert_exporter": "python",
   "pygments_lexer": "ipython3",
   "version": "3.12.7"
  }
 },
 "nbformat": 4,
 "nbformat_minor": 2
}
