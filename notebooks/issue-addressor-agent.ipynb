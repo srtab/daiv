{
 "cells": [
  {
   "cell_type": "markdown",
   "metadata": {},
   "source": [
    "# Issue Addressor Agent\n",
    "\n",
    "This agent is responsible for addressing issues on the codebase. A title and description are extracted from the Gitlab or Github issue and passed to the agent.\n",
    "\n",
    "It will start by distinguishing if the details are requests to change the code and if so, it will plan and execute the next steps."
   ]
  },
  {
   "cell_type": "code",
   "execution_count": 1,
   "metadata": {},
   "outputs": [
    {
     "name": "stderr",
     "output_type": "stream",
     "text": [
      "  + Exception Group Traceback (most recent call last):\n",
      "  |   File \"/home/sfr/work/personal/daiv/.venv/lib/python3.12/site-packages/IPython/core/interactiveshell.py\", line 3668, in run_code\n",
      "  |     await eval(code_obj, self.user_global_ns, self.user_ns)\n",
      "  |   File \"/tmp/ipykernel_1422879/4097687435.py\", line 21, in <module>\n",
      "  |     issue_addressor_agent = await issue_addressor.agent\n",
      "  |                             ^^^^^^^^^^^^^^^^^^^^^^^^^^^\n",
      "  |   File \"/home/sfr/work/personal/daiv/daiv/automation/agents/base.py\", line 64, in agent\n",
      "  |     return await self.compile()\n",
      "  |            ^^^^^^^^^^^^^^^^^^^^\n",
      "  |   File \"/home/sfr/work/personal/daiv/daiv/automation/agents/issue_addressor/agent.py\", line 60, in compile\n",
      "  |     workflow.add_node(\"plan_and_execute\", await self.plan_and_execute_subgraph(self.checkpointer, self.store))\n",
      "  |                                           ^^^^^^^^^^^^^^^^^^^^^^^^^^^^^^^^^^^^^^^^^^^^^^^^^^^^^^^^^^^^^^^^^^^\n",
      "  |   File \"/home/sfr/work/personal/daiv/daiv/automation/agents/issue_addressor/agent.py\", line 138, in plan_and_execute_subgraph\n",
      "  |     return await PlanAndExecuteAgent(checkpointer=checkpointer, store=store).agent\n",
      "  |            ^^^^^^^^^^^^^^^^^^^^^^^^^^^^^^^^^^^^^^^^^^^^^^^^^^^^^^^^^^^^^^^^^^^^^^^\n",
      "  |   File \"/home/sfr/work/personal/daiv/daiv/automation/agents/base.py\", line 64, in agent\n",
      "  |     return await self.compile()\n",
      "  |            ^^^^^^^^^^^^^^^^^^^^\n",
      "  |   File \"/home/sfr/work/personal/daiv/daiv/automation/agents/plan_and_execute/agent.py\", line 88, in compile\n",
      "  |     workflow.add_node(\"plan\", await self.plan_subgraph(self.store))\n",
      "  |                               ^^^^^^^^^^^^^^^^^^^^^^^^^^^^^^^^^^^^\n",
      "  |   File \"/home/sfr/work/personal/daiv/daiv/automation/agents/plan_and_execute/agent.py\", line 116, in plan_subgraph\n",
      "  |     + (await MCPToolkit.create_instance()).get_tools()\n",
      "  |        ^^^^^^^^^^^^^^^^^^^^^^^^^^^^^^^^^^\n",
      "  |   File \"/home/sfr/work/personal/daiv/daiv/automation/tools/toolkits.py\", line 93, in create_instance\n",
      "  |     tools = await client.get_tools()\n",
      "  |             ^^^^^^^^^^^^^^^^^^^^^^^^\n",
      "  |   File \"/home/sfr/work/personal/daiv/.venv/lib/python3.12/site-packages/langchain_mcp_adapters/client.py\", line 136, in get_tools\n",
      "  |     tools_list = await asyncio.gather(*load_mcp_tool_tasks)\n",
      "  |                  ^^^^^^^^^^^^^^^^^^^^^^^^^^^^^^^^^^^^^^^^^^\n",
      "  |   File \"/home/sfr/work/personal/daiv/.venv/lib/python3.12/site-packages/langchain_mcp_adapters/tools.py\", line 109, in load_mcp_tools\n",
      "  |     async with create_session(connection) as tool_session:\n",
      "  |                ^^^^^^^^^^^^^^^^^^^^^^^^^^\n",
      "  |   File \"/home/sfr/.local/share/uv/python/cpython-3.12.7-linux-x86_64-gnu/lib/python3.12/contextlib.py\", line 210, in __aenter__\n",
      "  |     return await anext(self.gen)\n",
      "  |            ^^^^^^^^^^^^^^^^^^^^^\n",
      "  |   File \"/home/sfr/work/personal/daiv/.venv/lib/python3.12/site-packages/langchain_mcp_adapters/sessions.py\", line 254, in create_session\n",
      "  |     async with _create_sse_session(\n",
      "  |                ^^^^^^^^^^^^^^^^^^^^\n",
      "  |   File \"/home/sfr/.local/share/uv/python/cpython-3.12.7-linux-x86_64-gnu/lib/python3.12/contextlib.py\", line 210, in __aenter__\n",
      "  |     return await anext(self.gen)\n",
      "  |            ^^^^^^^^^^^^^^^^^^^^^\n",
      "  |   File \"/home/sfr/work/personal/daiv/.venv/lib/python3.12/site-packages/langchain_mcp_adapters/sessions.py\", line 172, in _create_sse_session\n",
      "  |     async with sse_client(url, headers, timeout, sse_read_timeout) as (read, write):\n",
      "  |                ^^^^^^^^^^^^^^^^^^^^^^^^^^^^^^^^^^^^^^^^^^^^^^^^^^^\n",
      "  |   File \"/home/sfr/.local/share/uv/python/cpython-3.12.7-linux-x86_64-gnu/lib/python3.12/contextlib.py\", line 210, in __aenter__\n",
      "  |     return await anext(self.gen)\n",
      "  |            ^^^^^^^^^^^^^^^^^^^^^\n",
      "  |   File \"/home/sfr/work/personal/daiv/.venv/lib/python3.12/site-packages/mcp/client/sse.py\", line 54, in sse_client\n",
      "  |     async with anyio.create_task_group() as tg:\n",
      "  |                ^^^^^^^^^^^^^^^^^^^^^^^^^\n",
      "  |   File \"/home/sfr/work/personal/daiv/.venv/lib/python3.12/site-packages/anyio/_backends/_asyncio.py\", line 772, in __aexit__\n",
      "  |     raise BaseExceptionGroup(\n",
      "  | ExceptionGroup: unhandled errors in a TaskGroup (1 sub-exception)\n",
      "  +-+---------------- 1 ----------------\n",
      "    | Traceback (most recent call last):\n",
      "    |   File \"/home/sfr/work/personal/daiv/.venv/lib/python3.12/site-packages/httpx/_transports/default.py\", line 101, in map_httpcore_exceptions\n",
      "    |     yield\n",
      "    |   File \"/home/sfr/work/personal/daiv/.venv/lib/python3.12/site-packages/httpx/_transports/default.py\", line 394, in handle_async_request\n",
      "    |     resp = await self._pool.handle_async_request(req)\n",
      "    |            ^^^^^^^^^^^^^^^^^^^^^^^^^^^^^^^^^^^^^^^^^^\n",
      "    |   File \"/home/sfr/work/personal/daiv/.venv/lib/python3.12/site-packages/httpcore/_async/connection_pool.py\", line 256, in handle_async_request\n",
      "    |     raise exc from None\n",
      "    |   File \"/home/sfr/work/personal/daiv/.venv/lib/python3.12/site-packages/httpcore/_async/connection_pool.py\", line 236, in handle_async_request\n",
      "    |     response = await connection.handle_async_request(\n",
      "    |                ^^^^^^^^^^^^^^^^^^^^^^^^^^^^^^^^^^^^^^\n",
      "    |   File \"/home/sfr/work/personal/daiv/.venv/lib/python3.12/site-packages/httpcore/_async/connection.py\", line 101, in handle_async_request\n",
      "    |     raise exc\n",
      "    |   File \"/home/sfr/work/personal/daiv/.venv/lib/python3.12/site-packages/httpcore/_async/connection.py\", line 78, in handle_async_request\n",
      "    |     stream = await self._connect(request)\n",
      "    |              ^^^^^^^^^^^^^^^^^^^^^^^^^^^^\n",
      "    |   File \"/home/sfr/work/personal/daiv/.venv/lib/python3.12/site-packages/httpcore/_async/connection.py\", line 124, in _connect\n",
      "    |     stream = await self._network_backend.connect_tcp(**kwargs)\n",
      "    |              ^^^^^^^^^^^^^^^^^^^^^^^^^^^^^^^^^^^^^^^^^^^^^^^^^\n",
      "    |   File \"/home/sfr/work/personal/daiv/.venv/lib/python3.12/site-packages/httpcore/_backends/auto.py\", line 31, in connect_tcp\n",
      "    |     return await self._backend.connect_tcp(\n",
      "    |            ^^^^^^^^^^^^^^^^^^^^^^^^^^^^^^^^\n",
      "    |   File \"/home/sfr/work/personal/daiv/.venv/lib/python3.12/site-packages/httpcore/_backends/anyio.py\", line 113, in connect_tcp\n",
      "    |     with map_exceptions(exc_map):\n",
      "    |          ^^^^^^^^^^^^^^^^^^^^^^^\n",
      "    |   File \"/home/sfr/.local/share/uv/python/cpython-3.12.7-linux-x86_64-gnu/lib/python3.12/contextlib.py\", line 158, in __exit__\n",
      "    |     self.gen.throw(value)\n",
      "    |   File \"/home/sfr/work/personal/daiv/.venv/lib/python3.12/site-packages/httpcore/_exceptions.py\", line 14, in map_exceptions\n",
      "    |     raise to_exc(exc) from exc\n",
      "    | httpcore.ConnectError: [Errno -2] Name or service not known\n",
      "    | \n",
      "    | The above exception was the direct cause of the following exception:\n",
      "    | \n",
      "    | Traceback (most recent call last):\n",
      "    |   File \"/home/sfr/work/personal/daiv/.venv/lib/python3.12/site-packages/mcp/client/sse.py\", line 58, in sse_client\n",
      "    |     async with aconnect_sse(\n",
      "    |                ^^^^^^^^^^^^^\n",
      "    |   File \"/home/sfr/.local/share/uv/python/cpython-3.12.7-linux-x86_64-gnu/lib/python3.12/contextlib.py\", line 210, in __aenter__\n",
      "    |     return await anext(self.gen)\n",
      "    |            ^^^^^^^^^^^^^^^^^^^^^\n",
      "    |   File \"/home/sfr/work/personal/daiv/.venv/lib/python3.12/site-packages/httpx_sse/_api.py\", line 69, in aconnect_sse\n",
      "    |     async with client.stream(method, url, headers=headers, **kwargs) as response:\n",
      "    |                ^^^^^^^^^^^^^^^^^^^^^^^^^^^^^^^^^^^^^^^^^^^^^^^^^^^^^\n",
      "    |   File \"/home/sfr/.local/share/uv/python/cpython-3.12.7-linux-x86_64-gnu/lib/python3.12/contextlib.py\", line 210, in __aenter__\n",
      "    |     return await anext(self.gen)\n",
      "    |            ^^^^^^^^^^^^^^^^^^^^^\n",
      "    |   File \"/home/sfr/work/personal/daiv/.venv/lib/python3.12/site-packages/httpx/_client.py\", line 1583, in stream\n",
      "    |     response = await self.send(\n",
      "    |                ^^^^^^^^^^^^^^^^\n",
      "    |   File \"/home/sfr/work/personal/daiv/.venv/lib/python3.12/site-packages/httpx/_client.py\", line 1629, in send\n",
      "    |     response = await self._send_handling_auth(\n",
      "    |                ^^^^^^^^^^^^^^^^^^^^^^^^^^^^^^^\n",
      "    |   File \"/home/sfr/work/personal/daiv/.venv/lib/python3.12/site-packages/httpx/_client.py\", line 1657, in _send_handling_auth\n",
      "    |     response = await self._send_handling_redirects(\n",
      "    |                ^^^^^^^^^^^^^^^^^^^^^^^^^^^^^^^^^^^^\n",
      "    |   File \"/home/sfr/work/personal/daiv/.venv/lib/python3.12/site-packages/httpx/_client.py\", line 1694, in _send_handling_redirects\n",
      "    |     response = await self._send_single_request(request)\n",
      "    |                ^^^^^^^^^^^^^^^^^^^^^^^^^^^^^^^^^^^^^^^^\n",
      "    |   File \"/home/sfr/work/personal/daiv/.venv/lib/python3.12/site-packages/httpx/_client.py\", line 1730, in _send_single_request\n",
      "    |     response = await transport.handle_async_request(request)\n",
      "    |                ^^^^^^^^^^^^^^^^^^^^^^^^^^^^^^^^^^^^^^^^^^^^^\n",
      "    |   File \"/home/sfr/work/personal/daiv/.venv/lib/python3.12/site-packages/httpx/_transports/default.py\", line 393, in handle_async_request\n",
      "    |     with map_httpcore_exceptions():\n",
      "    |          ^^^^^^^^^^^^^^^^^^^^^^^^^\n",
      "    |   File \"/home/sfr/.local/share/uv/python/cpython-3.12.7-linux-x86_64-gnu/lib/python3.12/contextlib.py\", line 158, in __exit__\n",
      "    |     self.gen.throw(value)\n",
      "    |   File \"/home/sfr/work/personal/daiv/.venv/lib/python3.12/site-packages/httpx/_transports/default.py\", line 118, in map_httpcore_exceptions\n",
      "    |     raise mapped_exc(message) from exc\n",
      "    | httpx.ConnectError: [Errno -2] Name or service not known\n",
      "    +------------------------------------\n"
     ]
    }
   ],
   "source": [
    "from langgraph.checkpoint.memory import InMemorySaver\n",
    "from langgraph.store.memory import InMemoryStore\n",
    "from langgraph.types import Command\n",
    "from rich import print  # noqa: A004\n",
    "\n",
    "from automation.agents.issue_addressor import IssueAddressorAgent\n",
    "from automation.agents.issue_addressor.conf import settings\n",
    "from automation.utils import file_changes_namespace\n",
    "\n",
    "source_repo_id = \"srtab/daiv\"\n",
    "source_ref = \"main\"\n",
    "\n",
    "config = {\n",
    "    \"run_name\": \"IssueAddressor\",\n",
    "    \"recursion_limit\": settings.RECURSION_LIMIT,\n",
    "    \"configurable\": {\"source_repo_id\": source_repo_id, \"source_ref\": source_ref, \"thread_id\": \"1\"},\n",
    "}\n",
    "store = InMemoryStore()\n",
    "checkpointer = InMemorySaver()\n",
    "issue_addressor = IssueAddressorAgent(store=store, checkpointer=checkpointer)\n",
    "issue_addressor_agent = await issue_addressor.agent"
   ]
  },
  {
   "cell_type": "markdown",
   "metadata": {},
   "source": [
    "## Graph "
   ]
  },
  {
   "cell_type": "code",
   "execution_count": null,
   "metadata": {},
   "outputs": [],
   "source": [
    "from IPython.display import Image, display  # noqa: A004\n",
    "\n",
    "display(Image(issue_addressor.draw_mermaid()))"
   ]
  },
  {
   "cell_type": "markdown",
   "metadata": {},
   "source": [
    "---\n",
    "\n",
    "## Examples\n",
    "\n",
    "Here are examples of the issue addressor agent in action. "
   ]
  },
  {
   "cell_type": "markdown",
   "metadata": {},
   "source": [
    "### Issue with no code changes\n",
    "\n",
    "Before the agent is run, the issue is assessed to check if it is a request for code changes.\n",
    "\n",
    "If it is not, the agent will not plan or execute any changes."
   ]
  },
  {
   "cell_type": "code",
   "execution_count": 3,
   "metadata": {},
   "outputs": [],
   "source": [
    "result = await issue_addressor_agent.ainvoke(\n",
    "    {\"issue_title\": \"Review README.md\", \"issue_description\": \"Is the README.md file up to date?\"},\n",
    "    config=config,\n",
    "    subgraphs=True,\n",
    ")"
   ]
  },
  {
   "cell_type": "code",
   "execution_count": null,
   "metadata": {},
   "outputs": [],
   "source": [
    "print(result[1][\"request_for_changes\"])"
   ]
  },
  {
   "cell_type": "markdown",
   "metadata": {},
   "source": [
    "### Issue with code changes\n",
    "\n",
    "When the issue is a request for code changes, the agent will plan the changes to be made and wait for approval before executing them."
   ]
  },
  {
   "cell_type": "code",
   "execution_count": 15,
   "metadata": {},
   "outputs": [],
   "source": [
    "result = await issue_addressor_agent.ainvoke(\n",
    "    {\n",
    "        \"issue_title\": \"Spelling mistakes\",\n",
    "        \"issue_description\": \"There are some spelling mistakes in the README.md file. Please fix them.\",\n",
    "    },\n",
    "    config=config,\n",
    ")"
   ]
  },
  {
   "cell_type": "code",
   "execution_count": null,
   "metadata": {},
   "outputs": [],
   "source": [
    "print(result)"
   ]
  },
  {
   "cell_type": "markdown",
   "metadata": {},
   "source": [
    "Now that i have my plan defined, i need to approve it in order to execute it. The approval must be explicit, otherwise the agent will not execute the plan.\n",
    "\n",
    "Here an example of a plan that is not explicitly approved:"
   ]
  },
  {
   "cell_type": "code",
   "execution_count": null,
   "metadata": {},
   "outputs": [],
   "source": [
    "result = await issue_addressor_agent.ainvoke(Command(resume=[(\"human\", \"Hello DAIV\")]), config=config, subgraphs=True)\n",
    "print(result[1][\"plan_approval_response\"])"
   ]
  },
  {
   "cell_type": "markdown",
   "metadata": {},
   "source": [
    "Now, an example of a plan that is explicitly approved:"
   ]
  },
  {
   "cell_type": "code",
   "execution_count": 5,
   "metadata": {},
   "outputs": [],
   "source": [
    "result = await issue_addressor_agent.ainvoke(\n",
    "    Command(resume=[(\"human\", \"I approve the plan\")]), config=config, subgraphs=True\n",
    ")"
   ]
  },
  {
   "cell_type": "code",
   "execution_count": null,
   "metadata": {},
   "outputs": [],
   "source": [
    "print(result[1][\"plan_approval_response\"])"
   ]
  },
  {
   "cell_type": "code",
   "execution_count": null,
   "metadata": {},
   "outputs": [],
   "source": [
    "async for item in store.asearch(file_changes_namespace(source_repo_id, source_ref)):\n",
    "    print(f\"============================= {item.key} =============================\")\n",
    "    print(item.value[\"data\"].content)"
   ]
  },
  {
   "cell_type": "markdown",
   "metadata": {},
   "source": [
    "### Issue with concrete code changes\n",
    "\n",
    "There are cases where the issue description includes concrete code changes, like a code snippet, a code block, a list of choices, etc... and we need to ensure the agent will include the necessary context in the plan to perform the changes.\n",
    "\n",
    "Let's see an example:"
   ]
  },
  {
   "cell_type": "code",
   "execution_count": 4,
   "metadata": {},
   "outputs": [],
   "source": [
    "result = await issue_addressor_agent.ainvoke(\n",
    "    {\n",
    "        \"issue_title\": \"New choices for model operations\",\n",
    "        \"issue_description\": \"\"\"Add new choices for model operations:\n",
    "* list - with translation \"List\"\n",
    "* get - with translation \"Get\"\n",
    "* search - with translation \"Search\"\n",
    "* filter - with translation \"Filter\"\n",
    "* bulk_create - with translation \"Bulk create\"\n",
    "* bulk_update - with translation \"Bulk update\"\n",
    "* bulk_delete - with translation \"Bulk delete\"\n",
    "\"\"\",\n",
    "    },\n",
    "    config=config,\n",
    "    subgraphs=True,\n",
    ")"
   ]
  },
  {
   "cell_type": "code",
   "execution_count": null,
   "metadata": {},
   "outputs": [],
   "source": [
    "print(result[1][\"plan_goal\"])\n",
    "print(result[1][\"plan_tasks\"])"
   ]
  },
  {
   "cell_type": "code",
   "execution_count": 5,
   "metadata": {},
   "outputs": [],
   "source": [
    "result = await issue_addressor_agent.ainvoke(\n",
    "    Command(resume=[(\"human\", \"I approve the plan\")]), config=config, subgraphs=True\n",
    ")"
   ]
  },
  {
   "cell_type": "code",
   "execution_count": null,
   "metadata": {},
   "outputs": [],
   "source": [
    "async for item in store.asearch(file_changes_namespace(source_repo_id, source_ref)):\n",
    "    print(f\"============================= {item.key} =============================\")\n",
    "    print(item.value[\"data\"].content)"
   ]
  },
  {
   "cell_type": "markdown",
   "metadata": {},
   "source": [
    "### Issue with code snippet"
   ]
  },
  {
   "cell_type": "code",
   "execution_count": 3,
   "metadata": {},
   "outputs": [],
   "source": [
    "result = await issue_addressor_agent.ainvoke(\n",
    "    {\n",
    "        \"issue_title\": \"New pre-commit config\",\n",
    "        \"issue_description\": \"\"\"Add the following extra configurations to pre-commit config:\n",
    "\n",
    "```json\n",
    "  - repo: https://github.com/tox-dev/pyproject-fmt\n",
    "    rev: \"v2.5.1\"\n",
    "    hooks:\n",
    "      - id: pyproject-fmt\n",
    "```\n",
    "\"\"\",\n",
    "    },\n",
    "    config=config,\n",
    "    subgraphs=True,\n",
    ")"
   ]
  },
  {
   "cell_type": "code",
   "execution_count": null,
   "metadata": {},
   "outputs": [],
   "source": [
    "print(result[1][\"plan_goal\"])\n",
    "print(result[1][\"plan_tasks\"])"
   ]
  },
  {
   "cell_type": "code",
   "execution_count": 5,
   "metadata": {},
   "outputs": [],
   "source": [
    "result = await issue_addressor_agent.ainvoke(\n",
    "    Command(resume=[(\"human\", \"I approve the plan\")]), config=config, subgraphs=True\n",
    ")"
   ]
  },
  {
   "cell_type": "code",
   "execution_count": null,
   "metadata": {},
   "outputs": [],
   "source": [
    "print(result)"
   ]
  }
 ],
 "metadata": {
  "kernelspec": {
   "display_name": ".venv",
   "language": "python",
   "name": "python3"
  },
  "language_info": {
   "codemirror_mode": {
    "name": "ipython",
    "version": 3
   },
   "file_extension": ".py",
   "mimetype": "text/x-python",
   "name": "python",
   "nbconvert_exporter": "python",
   "pygments_lexer": "ipython3",
   "version": "3.12.7"
  }
 },
 "nbformat": 4,
 "nbformat_minor": 2
}
