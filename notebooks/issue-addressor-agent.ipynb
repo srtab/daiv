{
 "cells": [
  {
   "cell_type": "markdown",
   "metadata": {},
   "source": [
    "# Issue Addressor Agent\n",
    "\n",
    "This agent is responsible for addressing issues on the codebase. A title and description are extracted from the Gitlab or Github issue and passed to the agent.\n",
    "\n",
    "It will start by distinguishing if the details are requests to change the code and if so, it will plan and execute the next steps."
   ]
  },
  {
   "cell_type": "code",
   "execution_count": 1,
   "metadata": {},
   "outputs": [],
   "source": [
    "from langgraph.checkpoint.memory import InMemorySaver\n",
    "from langgraph.store.memory import InMemoryStore\n",
    "from langgraph.types import Command\n",
    "from rich import print  # noqa: A004\n",
    "\n",
    "from automation.agents.issue_addressor import IssueAddressorAgent\n",
    "from automation.agents.issue_addressor.conf import settings\n",
    "from automation.utils import file_changes_namespace\n",
    "\n",
    "source_repo_id = \"srtab/daiv\"\n",
    "source_ref = \"main\"\n",
    "\n",
    "config = {\n",
    "    \"run_name\": \"IssueAddressor\",\n",
    "    \"recursion_limit\": settings.RECURSION_LIMIT,\n",
    "    \"configurable\": {\"source_repo_id\": source_repo_id, \"source_ref\": source_ref, \"thread_id\": \"1\"},\n",
    "}\n",
    "store = InMemoryStore()\n",
    "checkpointer = InMemorySaver()\n",
    "issue_addressor = IssueAddressorAgent(store=store, checkpointer=checkpointer)"
   ]
  },
  {
   "cell_type": "markdown",
   "metadata": {},
   "source": [
    "## Graph "
   ]
  },
  {
   "cell_type": "code",
   "execution_count": null,
   "metadata": {},
   "outputs": [],
   "source": [
    "from IPython.display import Image, display  # noqa: A004\n",
    "\n",
    "display(Image(issue_addressor.draw_mermaid()))"
   ]
  },
  {
   "cell_type": "markdown",
   "metadata": {},
   "source": [
    "---\n",
    "\n",
    "## Examples\n",
    "\n",
    "Here are examples of the issue addressor agent in action. "
   ]
  },
  {
   "cell_type": "markdown",
   "metadata": {},
   "source": [
    "### Issue with no code changes\n",
    "\n",
    "Before the agent is run, the issue is assessed to check if it is a request for code changes.\n",
    "\n",
    "If it is not, the agent will not plan or execute any changes."
   ]
  },
  {
   "cell_type": "code",
   "execution_count": 3,
   "metadata": {},
   "outputs": [],
   "source": [
    "result = issue_addressor.agent.invoke(\n",
    "    {\"issue_title\": \"Review README.md\", \"issue_description\": \"Is the README.md file up to date?\"},\n",
    "    config=config,\n",
    "    subgraphs=True,\n",
    ")"
   ]
  },
  {
   "cell_type": "code",
   "execution_count": null,
   "metadata": {},
   "outputs": [],
   "source": [
    "print(result[1][\"request_for_changes\"])"
   ]
  },
  {
   "cell_type": "markdown",
   "metadata": {},
   "source": [
    "### Issue with code changes\n",
    "\n",
    "When the issue is a request for code changes, the agent will plan the changes to be made and wait for approval before executing them."
   ]
  },
  {
   "cell_type": "code",
   "execution_count": null,
   "metadata": {},
   "outputs": [],
   "source": [
    "result = issue_addressor.agent.invoke(\n",
    "    {\n",
    "        \"issue_title\": \"Spelling mistakes\",\n",
    "        \"issue_description\": \"There are some spelling mistakes in the README.md file. Please fix them.\",\n",
    "    },\n",
    "    config=config,\n",
    "    subgraphs=True,\n",
    ")"
   ]
  },
  {
   "cell_type": "code",
   "execution_count": null,
   "metadata": {},
   "outputs": [],
   "source": [
    "print(result[1][\"plan_tasks\"])"
   ]
  },
  {
   "cell_type": "code",
   "execution_count": null,
   "metadata": {},
   "outputs": [],
   "source": []
  },
  {
   "cell_type": "markdown",
   "metadata": {},
   "source": [
    "Now that i have my plan defined, i need to approve it in order to execute it. The approval must be explicit, otherwise the agent will not execute the plan.\n",
    "\n",
    "Here an example of a plan that is not explicitly approved:"
   ]
  },
  {
   "cell_type": "code",
   "execution_count": null,
   "metadata": {},
   "outputs": [],
   "source": [
    "result = issue_addressor.agent.invoke(Command(resume=[(\"human\", \"Hello DAIV\")]), config=config, subgraphs=True)\n",
    "print(result[1][\"plan_approval_response\"])"
   ]
  },
  {
   "cell_type": "markdown",
   "metadata": {},
   "source": [
    "Now, an example of a plan that is explicitly approved:"
   ]
  },
  {
   "cell_type": "code",
   "execution_count": 5,
   "metadata": {},
   "outputs": [],
   "source": [
    "result = issue_addressor.agent.invoke(Command(resume=[(\"human\", \"I approve the plan\")]), config=config, subgraphs=True)"
   ]
  },
  {
   "cell_type": "code",
   "execution_count": null,
   "metadata": {},
   "outputs": [],
   "source": [
    "print(result[1][\"plan_approval_response\"])"
   ]
  },
  {
   "cell_type": "code",
   "execution_count": null,
   "metadata": {},
   "outputs": [],
   "source": [
    "for item in store.search(file_changes_namespace(source_repo_id, source_ref)):\n",
    "    print(f\"============================= {item.key} =============================\")\n",
    "    print(item.value[\"data\"].content)"
   ]
  },
  {
   "cell_type": "markdown",
   "metadata": {},
   "source": [
    "### Issue with concrete code changes\n",
    "\n",
    "There are cases where the issue description includes concrete code changes, like a code snippet, a code block, a list of choices, etc... and we need to ensure the agent will include the necessary context in the plan to perform the changes.\n",
    "\n",
    "Let's see an example:"
   ]
  },
  {
   "cell_type": "code",
   "execution_count": 4,
   "metadata": {},
   "outputs": [],
   "source": [
    "result = issue_addressor.agent.invoke(\n",
    "    {\n",
    "        \"issue_title\": \"New choices for model operations\",\n",
    "        \"issue_description\": \"\"\"Add new choices for model operations:\n",
    "* list - with translation \"List\"\n",
    "* get - with translation \"Get\"\n",
    "* search - with translation \"Search\"\n",
    "* filter - with translation \"Filter\"\n",
    "* bulk_create - with translation \"Bulk create\"\n",
    "* bulk_update - with translation \"Bulk update\"\n",
    "* bulk_delete - with translation \"Bulk delete\"\n",
    "\"\"\",\n",
    "    },\n",
    "    config=config,\n",
    "    subgraphs=True,\n",
    ")"
   ]
  },
  {
   "cell_type": "code",
   "execution_count": null,
   "metadata": {},
   "outputs": [],
   "source": [
    "print(result[1][\"plan_goal\"])\n",
    "print(result[1][\"plan_tasks\"])"
   ]
  },
  {
   "cell_type": "code",
   "execution_count": 5,
   "metadata": {},
   "outputs": [],
   "source": [
    "result = issue_addressor.agent.invoke(Command(resume=[(\"human\", \"I approve the plan\")]), config=config, subgraphs=True)"
   ]
  },
  {
   "cell_type": "code",
   "execution_count": null,
   "metadata": {},
   "outputs": [],
   "source": [
    "for item in store.search(file_changes_namespace(source_repo_id, source_ref)):\n",
    "    print(f\"============================= {item.key} =============================\")\n",
    "    print(item.value[\"data\"].content)"
   ]
  },
  {
   "cell_type": "markdown",
   "metadata": {},
   "source": [
    "### Issue with code snippet"
   ]
  },
  {
   "cell_type": "code",
   "execution_count": 3,
   "metadata": {},
   "outputs": [],
   "source": [
    "result = issue_addressor.agent.invoke(\n",
    "    {\n",
    "        \"issue_title\": \"New pre-commit config\",\n",
    "        \"issue_description\": \"\"\"Add the following extra configurations to pre-commit config:\n",
    "\n",
    "```json\n",
    "  - repo: https://github.com/tox-dev/pyproject-fmt\n",
    "    rev: \"v2.5.1\"\n",
    "    hooks:\n",
    "      - id: pyproject-fmt\n",
    "```\n",
    "\"\"\",\n",
    "    },\n",
    "    config=config,\n",
    "    subgraphs=True,\n",
    ")"
   ]
  },
  {
   "cell_type": "code",
   "execution_count": null,
   "metadata": {},
   "outputs": [],
   "source": [
    "print(result[1][\"plan_goal\"])\n",
    "print(result[1][\"plan_tasks\"])"
   ]
  },
  {
   "cell_type": "code",
   "execution_count": 5,
   "metadata": {},
   "outputs": [],
   "source": [
    "result = issue_addressor.agent.invoke(Command(resume=[(\"human\", \"I approve the plan\")]), config=config, subgraphs=True)"
   ]
  },
  {
   "cell_type": "code",
   "execution_count": null,
   "metadata": {},
   "outputs": [],
   "source": [
    "print(result)"
   ]
  }
 ],
 "metadata": {
  "kernelspec": {
   "display_name": ".venv",
   "language": "python",
   "name": "python3"
  },
  "language_info": {
   "codemirror_mode": {
    "name": "ipython",
    "version": 3
   },
   "file_extension": ".py",
   "mimetype": "text/x-python",
   "name": "python",
   "nbconvert_exporter": "python",
   "pygments_lexer": "ipython3",
   "version": "3.12.7"
  }
 },
 "nbformat": 4,
 "nbformat_minor": 2
}
