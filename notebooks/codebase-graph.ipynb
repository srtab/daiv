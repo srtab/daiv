{
 "cells": [
  {
   "cell_type": "code",
   "execution_count": 1,
   "metadata": {},
   "outputs": [],
   "source": [
    "from tree_sitter import Parser\n",
    "from tree_sitter_language_pack import get_language\n",
    "\n",
    "from daiv.settings.components import PROJECT_DIR\n",
    "\n",
    "QUERY_TAGS = \"\"\"(module (expression_statement (assignment left: (identifier) @name) @definition.constant))\n",
    "\n",
    "(class_definition\n",
    "  name: (identifier) @name) @definition.class\n",
    "\n",
    "(function_definition\n",
    "  name: (identifier) @name) @definition.function\n",
    "\n",
    "(call\n",
    "  function: [\n",
    "      (identifier) @name\n",
    "      (attribute\n",
    "        attribute: (identifier) @name)\n",
    "  ]) @reference.call\"\"\"\n",
    "\n",
    "file_path = PROJECT_DIR / \"codebase\" / \"utils.py\"\n",
    "\n",
    "with file_path.open(\"rb\") as f:\n",
    "    content = f.read()\n",
    "\n",
    "language = get_language(\"python\")\n",
    "parser = Parser(language=language)\n",
    "tree = parser.parse(content)"
   ]
  },
  {
   "cell_type": "code",
   "execution_count": 2,
   "metadata": {},
   "outputs": [],
   "source": [
    "matches = language.query(QUERY_TAGS).matches(tree.root_node)"
   ]
  },
  {
   "cell_type": "code",
   "execution_count": 80,
   "metadata": {},
   "outputs": [],
   "source": [
    "captures = language.query(QUERY_TAGS).matches(tree.root_node)"
   ]
  },
  {
   "cell_type": "code",
   "execution_count": null,
   "metadata": {},
   "outputs": [],
   "source": [
    "for _, items in captures:\n",
    "    for _key, _value in items.items():\n",
    "        pass"
   ]
  },
  {
   "cell_type": "code",
   "execution_count": 1,
   "metadata": {},
   "outputs": [
    {
     "data": {
      "text/plain": [
       "<Repository: {'uid': '60462efb418543858a715822e7d0e967', 'created_at': datetime.datetime(2025, 4, 15, 23, 8, 45, 502828), 'updated_at': datetime.datetime(2025, 4, 15, 23, 8, 45, 502838), 'repo_id': 'test', 'name': 'test', 'url': 'test', 'client': 'gitlab', 'element_id_property': '4:e1be432e-dde8-429b-9ef6-8c786a0dfc09:332'}>"
      ]
     },
     "execution_count": 1,
     "metadata": {},
     "output_type": "execute_result"
    }
   ],
   "source": [
    "from codebase.graphs.extract_map import CodeImporter\n",
    "from daiv.settings.components import PROJECT_DIR\n",
    "\n",
    "code_importer = CodeImporter()\n",
    "code_importer.import_repository(PROJECT_DIR, \"test\", \"test\", \"test\")"
   ]
  },
  {
   "cell_type": "code",
   "execution_count": null,
   "metadata": {},
   "outputs": [],
   "source": [
    "PROJECT_DIR.relative_to(PROJECT_DIR.parent).parts"
   ]
  }
 ],
 "metadata": {
  "kernelspec": {
   "display_name": ".venv",
   "language": "python",
   "name": "python3"
  },
  "language_info": {
   "codemirror_mode": {
    "name": "ipython",
    "version": 3
   },
   "file_extension": ".py",
   "mimetype": "text/x-python",
   "name": "python",
   "nbconvert_exporter": "python",
   "pygments_lexer": "ipython3",
   "version": "3.12.7"
  }
 },
 "nbformat": 4,
 "nbformat_minor": 2
}
