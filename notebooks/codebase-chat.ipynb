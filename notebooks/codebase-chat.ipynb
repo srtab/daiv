{
 "cells": [
  {
   "cell_type": "markdown",
   "metadata": {},
   "source": [
    "# Codebase Chat Agent\n",
    "\n",
    "This agent is responsible for answering questions about the codebases. This is a simple ReAct agent with access to a tool to search code snippets.\n",
    "\n",
    "If the agent need to think about the user query or make function calls, it will do in a tag `<thinking>`. This can used to understand the agent's thinking process. Integrations like OpenWebUI can use this tag to show the agent's thinking process to the user."
   ]
  },
  {
   "cell_type": "markdown",
   "metadata": {},
   "source": [
    "## Setup"
   ]
  },
  {
   "cell_type": "code",
   "execution_count": 1,
   "metadata": {},
   "outputs": [],
   "source": [
    "from rich import print  # noqa: A004\n",
    "\n",
    "from automation.agents.codebase_chat import CodebaseChatAgent\n",
    "\n",
    "config = {\"run_name\": \"CodebaseChat\"}\n",
    "codebase_chat = CodebaseChatAgent()"
   ]
  },
  {
   "cell_type": "markdown",
   "metadata": {},
   "source": [
    "## Graph"
   ]
  },
  {
   "cell_type": "code",
   "execution_count": null,
   "metadata": {},
   "outputs": [],
   "source": [
    "from IPython.display import Image, display  # noqa: A004\n",
    "\n",
    "display(Image(codebase_chat.draw_mermaid()))"
   ]
  },
  {
   "cell_type": "markdown",
   "metadata": {},
   "source": [
    "## Examples\n",
    "\n",
    "Here are some examples of how the agent works. "
   ]
  },
  {
   "cell_type": "markdown",
   "metadata": {},
   "source": [
    "### Query unrelated to codebases\n",
    "\n",
    "The expected behavior is that the agent will answer that it can only answer questions about the codebases or software development in general."
   ]
  },
  {
   "cell_type": "code",
   "execution_count": null,
   "metadata": {},
   "outputs": [],
   "source": [
    "result = codebase_chat.agent.invoke({\"messages\": [(\"human\", \"Hi, what is the capital of France?\")]}, config=config)\n",
    "\n",
    "for message in result[\"messages\"]:\n",
    "    print(message.pretty_print())"
   ]
  },
  {
   "cell_type": "markdown",
   "metadata": {},
   "source": [
    "### Query about software development\n",
    "\n",
    "The expected behavior is that the agent will answer directly without searching the codebases. "
   ]
  },
  {
   "cell_type": "code",
   "execution_count": null,
   "metadata": {},
   "outputs": [],
   "source": [
    "result = codebase_chat.agent.invoke({\"messages\": [(\"human\", \"How can I make a good software?\")]}, config=config)\n",
    "\n",
    "for message in result[\"messages\"]:\n",
    "    print(message.pretty_print())"
   ]
  },
  {
   "cell_type": "markdown",
   "metadata": {},
   "source": [
    "### Query about a specific repository\n",
    "\n",
    "The expected behavior is that the agent will search the codebases for the query and answer the question based on the codebases."
   ]
  },
  {
   "cell_type": "code",
   "execution_count": null,
   "metadata": {},
   "outputs": [],
   "source": [
    "result = codebase_chat.agent.invoke(\n",
    "    {\"messages\": [(\"human\", \"What is the main programming language used in the codebases?\")]}, config=config\n",
    ")\n",
    "\n",
    "for message in result[\"messages\"]:\n",
    "    print(message.pretty_print())"
   ]
  },
  {
   "cell_type": "markdown",
   "metadata": {},
   "source": [
    "### Query about a specific repository with follow-up questions\n",
    "\n",
    "It's expected that the agent will answer being aware of previous messages."
   ]
  },
  {
   "cell_type": "code",
   "execution_count": null,
   "metadata": {},
   "outputs": [],
   "source": [
    "result = codebase_chat.agent.invoke(\n",
    "    {\"messages\": [(\"human\", \"What's the python version used on django-webhooks?\")]}, config=config\n",
    ")\n",
    "result = codebase_chat.agent.invoke(\n",
    "    {\"messages\": result[\"messages\"] + [(\"human\", \"How can i install a new dependency?\")]}, config=config\n",
    ")\n",
    "for message in result[\"messages\"]:\n",
    "    print(message.pretty_print())"
   ]
  }
 ],
 "metadata": {
  "kernelspec": {
   "display_name": ".venv",
   "language": "python",
   "name": "python3"
  },
  "language_info": {
   "codemirror_mode": {
    "name": "ipython",
    "version": 3
   },
   "file_extension": ".py",
   "mimetype": "text/x-python",
   "name": "python",
   "nbconvert_exporter": "python",
   "pygments_lexer": "ipython3",
   "version": "3.12.7"
  }
 },
 "nbformat": 4,
 "nbformat_minor": 2
}
